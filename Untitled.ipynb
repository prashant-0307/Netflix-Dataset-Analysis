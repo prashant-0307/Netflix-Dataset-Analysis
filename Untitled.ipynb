{
 "cells": [
  {
   "cell_type": "markdown",
   "id": "e212d871-614b-47d4-a444-e7eff50f907c",
   "metadata": {},
   "source": [
    "Netflix Movies and TV Shows Data Analysis"
   ]
  },
  {
   "cell_type": "markdown",
   "id": "00276bfd-bb17-4c77-8a42-437bd23e3d1a",
   "metadata": {},
   "source": [
    "This project presents a comprehensive exploratory data analysis (EDA) \n",
    "of a Netflix dataset containing detailed information about Movies and TV Shows available on the platform. \n",
    "The analysis is performed using Python libraries such as Pandas, Matplotlib, and Seaborn to generate meaningful visualizations and insights."
   ]
  },
  {
   "cell_type": "markdown",
   "id": "adf003b0-b5b8-44f3-accb-5f245cfb06e3",
   "metadata": {},
   "source": [
    "EDA (Exploratory Data Analysis) is the process of analyzing and visualizing datasets to:\n",
    "\n",
    "1. Understand the structure, patterns, and relationships in the data,\n",
    "\n",
    "2. Clean and prepare data for modeling or reporting,\n",
    "\n",
    "3. Detect anomalies, missing values, or outliers,\n",
    "\n",
    "4. Generate hypotheses for deeper analysis or machine learning."
   ]
  },
  {
   "cell_type": "markdown",
   "id": "36d19aaf-8c66-4d9c-840d-8f6d4d7cc9e5",
   "metadata": {},
   "source": [
    "importing the library files "
   ]
  },
  {
   "cell_type": "code",
   "execution_count": 1,
   "id": "39d028e8-02ed-4e10-b45a-510c10e2592b",
   "metadata": {},
   "outputs": [],
   "source": [
    "import numpy as np\n",
    "import pandas as pd\n",
    "import matplotlib.pyplot as plt\n",
    "import seaborn as sns"
   ]
  },
  {
   "cell_type": "markdown",
   "id": "0ea49652-1a4a-49cd-bef4-acaaae272098",
   "metadata": {},
   "source": [
    "I am working with exploratory data analysis (EDA)"
   ]
  },
  {
   "cell_type": "markdown",
   "id": "b54d29ae-1694-450a-9ec7-b5eab21c00e9",
   "metadata": {},
   "source": [
    "Loading dataset using pandas library file"
   ]
  },
  {
   "cell_type": "code",
   "execution_count": 33,
   "id": "a2eced6b-7847-4a81-a0a5-0b1f7534ac4a",
   "metadata": {},
   "outputs": [
    {
     "data": {
      "text/html": [
       "<div>\n",
       "<style scoped>\n",
       "    .dataframe tbody tr th:only-of-type {\n",
       "        vertical-align: middle;\n",
       "    }\n",
       "\n",
       "    .dataframe tbody tr th {\n",
       "        vertical-align: top;\n",
       "    }\n",
       "\n",
       "    .dataframe thead th {\n",
       "        text-align: right;\n",
       "    }\n",
       "</style>\n",
       "<table border=\"1\" class=\"dataframe\">\n",
       "  <thead>\n",
       "    <tr style=\"text-align: right;\">\n",
       "      <th></th>\n",
       "      <th>show_id</th>\n",
       "      <th>type</th>\n",
       "      <th>title</th>\n",
       "      <th>director</th>\n",
       "      <th>cast</th>\n",
       "      <th>country</th>\n",
       "      <th>date_added</th>\n",
       "      <th>release_year</th>\n",
       "      <th>rating</th>\n",
       "      <th>duration</th>\n",
       "      <th>listed_in</th>\n",
       "      <th>description</th>\n",
       "    </tr>\n",
       "  </thead>\n",
       "  <tbody>\n",
       "    <tr>\n",
       "      <th>0</th>\n",
       "      <td>s1</td>\n",
       "      <td>Movie</td>\n",
       "      <td>Dick Johnson Is Dead</td>\n",
       "      <td>Kirsten Johnson</td>\n",
       "      <td>NaN</td>\n",
       "      <td>United States</td>\n",
       "      <td>September 25, 2021</td>\n",
       "      <td>2020</td>\n",
       "      <td>PG-13</td>\n",
       "      <td>90 min</td>\n",
       "      <td>Documentaries</td>\n",
       "      <td>As her father nears the end of his life, filmm...</td>\n",
       "    </tr>\n",
       "    <tr>\n",
       "      <th>1</th>\n",
       "      <td>s2</td>\n",
       "      <td>TV Show</td>\n",
       "      <td>Blood &amp; Water</td>\n",
       "      <td>NaN</td>\n",
       "      <td>Ama Qamata, Khosi Ngema, Gail Mabalane, Thaban...</td>\n",
       "      <td>South Africa</td>\n",
       "      <td>September 24, 2021</td>\n",
       "      <td>2021</td>\n",
       "      <td>TV-MA</td>\n",
       "      <td>2 Seasons</td>\n",
       "      <td>International TV Shows, TV Dramas, TV Mysteries</td>\n",
       "      <td>After crossing paths at a party, a Cape Town t...</td>\n",
       "    </tr>\n",
       "    <tr>\n",
       "      <th>2</th>\n",
       "      <td>s3</td>\n",
       "      <td>TV Show</td>\n",
       "      <td>Ganglands</td>\n",
       "      <td>Julien Leclercq</td>\n",
       "      <td>Sami Bouajila, Tracy Gotoas, Samuel Jouy, Nabi...</td>\n",
       "      <td>NaN</td>\n",
       "      <td>September 24, 2021</td>\n",
       "      <td>2021</td>\n",
       "      <td>TV-MA</td>\n",
       "      <td>1 Season</td>\n",
       "      <td>Crime TV Shows, International TV Shows, TV Act...</td>\n",
       "      <td>To protect his family from a powerful drug lor...</td>\n",
       "    </tr>\n",
       "    <tr>\n",
       "      <th>3</th>\n",
       "      <td>s4</td>\n",
       "      <td>TV Show</td>\n",
       "      <td>Jailbirds New Orleans</td>\n",
       "      <td>NaN</td>\n",
       "      <td>NaN</td>\n",
       "      <td>NaN</td>\n",
       "      <td>September 24, 2021</td>\n",
       "      <td>2021</td>\n",
       "      <td>TV-MA</td>\n",
       "      <td>1 Season</td>\n",
       "      <td>Docuseries, Reality TV</td>\n",
       "      <td>Feuds, flirtations and toilet talk go down amo...</td>\n",
       "    </tr>\n",
       "    <tr>\n",
       "      <th>4</th>\n",
       "      <td>s5</td>\n",
       "      <td>TV Show</td>\n",
       "      <td>Kota Factory</td>\n",
       "      <td>NaN</td>\n",
       "      <td>Mayur More, Jitendra Kumar, Ranjan Raj, Alam K...</td>\n",
       "      <td>India</td>\n",
       "      <td>September 24, 2021</td>\n",
       "      <td>2021</td>\n",
       "      <td>TV-MA</td>\n",
       "      <td>2 Seasons</td>\n",
       "      <td>International TV Shows, Romantic TV Shows, TV ...</td>\n",
       "      <td>In a city of coaching centers known to train I...</td>\n",
       "    </tr>\n",
       "  </tbody>\n",
       "</table>\n",
       "</div>"
      ],
      "text/plain": [
       "  show_id     type                  title         director  \\\n",
       "0      s1    Movie   Dick Johnson Is Dead  Kirsten Johnson   \n",
       "1      s2  TV Show          Blood & Water              NaN   \n",
       "2      s3  TV Show              Ganglands  Julien Leclercq   \n",
       "3      s4  TV Show  Jailbirds New Orleans              NaN   \n",
       "4      s5  TV Show           Kota Factory              NaN   \n",
       "\n",
       "                                                cast        country  \\\n",
       "0                                                NaN  United States   \n",
       "1  Ama Qamata, Khosi Ngema, Gail Mabalane, Thaban...   South Africa   \n",
       "2  Sami Bouajila, Tracy Gotoas, Samuel Jouy, Nabi...            NaN   \n",
       "3                                                NaN            NaN   \n",
       "4  Mayur More, Jitendra Kumar, Ranjan Raj, Alam K...          India   \n",
       "\n",
       "           date_added  release_year rating   duration  \\\n",
       "0  September 25, 2021          2020  PG-13     90 min   \n",
       "1  September 24, 2021          2021  TV-MA  2 Seasons   \n",
       "2  September 24, 2021          2021  TV-MA   1 Season   \n",
       "3  September 24, 2021          2021  TV-MA   1 Season   \n",
       "4  September 24, 2021          2021  TV-MA  2 Seasons   \n",
       "\n",
       "                                           listed_in  \\\n",
       "0                                      Documentaries   \n",
       "1    International TV Shows, TV Dramas, TV Mysteries   \n",
       "2  Crime TV Shows, International TV Shows, TV Act...   \n",
       "3                             Docuseries, Reality TV   \n",
       "4  International TV Shows, Romantic TV Shows, TV ...   \n",
       "\n",
       "                                         description  \n",
       "0  As her father nears the end of his life, filmm...  \n",
       "1  After crossing paths at a party, a Cape Town t...  \n",
       "2  To protect his family from a powerful drug lor...  \n",
       "3  Feuds, flirtations and toilet talk go down amo...  \n",
       "4  In a city of coaching centers known to train I...  "
      ]
     },
     "execution_count": 33,
     "metadata": {},
     "output_type": "execute_result"
    }
   ],
   "source": [
    "dataset = pd.read_csv(\"netflix_titles.csv\")\n",
    "dataset.head(5)"
   ]
  },
  {
   "cell_type": "code",
   "execution_count": 73,
   "id": "81f363a0-a7ee-4fbf-b189-46f4fdab3aea",
   "metadata": {},
   "outputs": [
    {
     "name": "stdout",
     "output_type": "stream",
     "text": [
      "<class 'pandas.core.frame.DataFrame'>\n",
      "RangeIndex: 8807 entries, 0 to 8806\n",
      "Data columns (total 11 columns):\n",
      " #   Column        Non-Null Count  Dtype \n",
      "---  ------        --------------  ----- \n",
      " 0   show_id       8807 non-null   object\n",
      " 1   type          8807 non-null   object\n",
      " 2   title         8807 non-null   object\n",
      " 3   cast          8807 non-null   object\n",
      " 4   country       8807 non-null   object\n",
      " 5   date_added    8807 non-null   object\n",
      " 6   release_year  8807 non-null   Int64 \n",
      " 7   rating        8803 non-null   object\n",
      " 8   duration      8804 non-null   object\n",
      " 9   listed_in     8807 non-null   object\n",
      " 10  description   8807 non-null   object\n",
      "dtypes: Int64(1), object(10)\n",
      "memory usage: 765.6+ KB\n"
     ]
    },
    {
     "data": {
      "text/plain": [
       "((8807, 11),\n",
       " Index(['show_id', 'type', 'title', 'cast', 'country', 'date_added',\n",
       "        'release_year', 'rating', 'duration', 'listed_in', 'description'],\n",
       "       dtype='object'),\n",
       " None)"
      ]
     },
     "execution_count": 73,
     "metadata": {},
     "output_type": "execute_result"
    }
   ],
   "source": [
    "dataset.shape, dataset.columns, dataset.info()"
   ]
  },
  {
   "cell_type": "raw",
   "id": "dc7ab8e8-f018-456e-9c39-5bc915c370ac",
   "metadata": {},
   "source": [
    "checking is there any NaN values in rows"
   ]
  },
  {
   "cell_type": "code",
   "execution_count": 4,
   "id": "f9072486-325c-4e03-a161-ddd41e7537c0",
   "metadata": {},
   "outputs": [
    {
     "data": {
      "text/plain": [
       "show_id            0\n",
       "type               0\n",
       "title              0\n",
       "director        2634\n",
       "cast             825\n",
       "country          831\n",
       "date_added        10\n",
       "release_year       0\n",
       "rating             4\n",
       "duration           3\n",
       "listed_in          0\n",
       "description        0\n",
       "dtype: int64"
      ]
     },
     "execution_count": 4,
     "metadata": {},
     "output_type": "execute_result"
    }
   ],
   "source": [
    "dataset.isnull().sum()"
   ]
  },
  {
   "cell_type": "markdown",
   "id": "9c7a10bd-822a-4066-bab8-7847ebc5711c",
   "metadata": {},
   "source": [
    "checking the percentage of null values , there is null values are in dataset column "
   ]
  },
  {
   "cell_type": "code",
   "execution_count": 39,
   "id": "fa6e4c35-1050-4110-8bf6-f5f83596c19b",
   "metadata": {},
   "outputs": [
    {
     "data": {
      "text/plain": [
       "show_id         0.000000\n",
       "type            0.000000\n",
       "title           0.000000\n",
       "cast            9.367549\n",
       "country         9.435676\n",
       "date_added      0.113546\n",
       "release_year    0.000000\n",
       "rating          0.045418\n",
       "duration        0.034064\n",
       "listed_in       0.000000\n",
       "description     0.000000\n",
       "dtype: float64"
      ]
     },
     "execution_count": 39,
     "metadata": {},
     "output_type": "execute_result"
    }
   ],
   "source": [
    "dataset.isnull().sum()/len(dataset)*100"
   ]
  },
  {
   "cell_type": "markdown",
   "id": "2d75feb7-0d95-420b-9314-85b3360ffe75",
   "metadata": {},
   "source": [
    "When dealing with NaN (missing) values, your approach depends on:\n",
    "\n",
    "1. How important the column is for your analysis.\n",
    "\n",
    "2. How much data is missing (i.e., the percentage of NaNs).\n",
    "\n",
    "3. Whether the missing data is random or meaningful."
   ]
  },
  {
   "cell_type": "code",
   "execution_count": 37,
   "id": "a739b8da-52e1-44ba-8882-9ee08f74d0c0",
   "metadata": {},
   "outputs": [],
   "source": [
    "dataset = dataset.drop([\"director\"] , axis=1)"
   ]
  },
  {
   "cell_type": "code",
   "execution_count": 52,
   "id": "aa038343-894e-4f34-86c3-f6bafba1359f",
   "metadata": {},
   "outputs": [],
   "source": [
    "dataset[\"date_added\"] = dataset[\"date_added\"].fillna(dataset[\"date_added\"].mode()[0])"
   ]
  },
  {
   "cell_type": "code",
   "execution_count": 53,
   "id": "e3873695-99a3-469b-9add-f1cf71b771a8",
   "metadata": {},
   "outputs": [
    {
     "data": {
      "text/plain": [
       "show_id         0\n",
       "type            0\n",
       "title           0\n",
       "cast            0\n",
       "country         0\n",
       "date_added      0\n",
       "release_year    0\n",
       "rating          4\n",
       "duration        3\n",
       "listed_in       0\n",
       "description     0\n",
       "dtype: int64"
      ]
     },
     "execution_count": 53,
     "metadata": {},
     "output_type": "execute_result"
    }
   ],
   "source": [
    "dataset.isnull().sum()"
   ]
  },
  {
   "cell_type": "raw",
   "id": "bf3e6d0e-036e-4087-9afa-c2b7fd2f679d",
   "metadata": {},
   "source": [
    "I have cleared all null values"
   ]
  },
  {
   "cell_type": "markdown",
   "id": "ab6e4607-573f-4150-9b1f-7992d5c89e11",
   "metadata": {},
   "source": [
    "Outlier Detection — an important part of EDA to identify and handle unusual or extreme values that can distort your analysis or models."
   ]
  },
  {
   "cell_type": "code",
   "execution_count": 61,
   "id": "d44e255d-0cf6-4ba5-bfdd-11fe76641208",
   "metadata": {},
   "outputs": [],
   "source": [
    "movies_df = dataset[dataset['type'] == 'Movie'].copy()\n",
    "shows_df = dataset[dataset['type'] == 'TV Show'].copy()"
   ]
  },
  {
   "cell_type": "code",
   "execution_count": 65,
   "id": "fcc12d21-a192-4622-8b1a-de7326f041bd",
   "metadata": {},
   "outputs": [],
   "source": [
    "# For Movies: extract number from \"90 min\"\n",
    "movies_df['duration_minutes'] = movies_df['duration'].str.extract(r'(\\d+)').astype(float)\n",
    "\n",
    "# For TV Shows: extract number from \"1 Season\"\n",
    "shows_df['duration_seasons'] = shows_df['duration'].str.extract(r'(\\d+)').astype(float)\n"
   ]
  },
  {
   "cell_type": "code",
   "execution_count": 70,
   "id": "67c3e5b0-5eeb-4b9c-a56d-c04ff574f18d",
   "metadata": {},
   "outputs": [],
   "source": [
    "\n",
    "dataset['release_year'] = dataset['release_year'].astype('Int64')"
   ]
  },
  {
   "cell_type": "code",
   "execution_count": 75,
   "id": "40dbe725-9bdb-4e30-bfa9-7308f209d7d2",
   "metadata": {},
   "outputs": [
    {
     "name": "stdout",
     "output_type": "stream",
     "text": [
      "count         8807.0\n",
      "mean     2014.180198\n",
      "std         8.819312\n",
      "min           1925.0\n",
      "25%           2013.0\n",
      "50%           2017.0\n",
      "75%           2019.0\n",
      "max           2021.0\n",
      "Name: release_year, dtype: Float64\n"
     ]
    }
   ],
   "source": [
    "print(dataset['release_year'].describe())"
   ]
  },
  {
   "cell_type": "code",
   "execution_count": 81,
   "id": "27fe54cd-3c1c-466e-99c4-149668689cd1",
   "metadata": {},
   "outputs": [
    {
     "data": {
      "image/png": "[encoded data removed]",
      "text/plain": [
       "<Figure size 640x480 with 1 Axes>"
      ]
     },
     "metadata": {},
     "output_type": "display_data"
    }
   ],
   "source": [
    "\n",
    "sns.boxplot(x=dataset['release_year'])\n",
    "plt.title(\"Boxplot of Release Year \")\n",
    "plt.show()\n"
   ]
  },
  {
   "cell_type": "code",
   "execution_count": 78,
   "id": "2d78b1be-6ec8-4818-9af9-9674c4630692",
   "metadata": {},
   "outputs": [
    {
     "name": "stdout",
     "output_type": "stream",
     "text": [
      "Lower Bound: 2004.0\n",
      "Upper Bound: 2028.0\n",
      "Outlier rows: 719\n"
     ]
    }
   ],
   "source": [
    "Q1 = dataset['release_year'].quantile(0.25)\n",
    "Q3 = dataset['release_year'].quantile(0.75)\n",
    "IQR = Q3 - Q1\n",
    "\n",
    "lower_bound = Q1 - 1.5 * IQR\n",
    "upper_bound = Q3 + 1.5 * IQR\n",
    "\n",
    "# Print bounds\n",
    "print(\"Lower Bound:\", lower_bound)\n",
    "print(\"Upper Bound:\", upper_bound)\n",
    "\n",
    "# Find outliers\n",
    "outliers = dataset[(dataset['release_year'] < lower_bound) | (dataset['release_year'] > upper_bound)]\n",
    "print(\"Outlier rows:\", outliers.shape[0])\n"
   ]
  },
  {
   "cell_type": "code",
   "execution_count": 79,
   "id": "605ec31f-4907-43c8-9da2-64f8b2833d1a",
   "metadata": {},
   "outputs": [],
   "source": [
    "dataset = dataset[(dataset['release_year'] >= lower_bound) & (dataset['release_year'] <= upper_bound)]"
   ]
  },
  {
   "cell_type": "code",
   "execution_count": 80,
   "id": "3a30e69b-5792-4bca-b09d-bf095a4e4c2a",
   "metadata": {},
   "outputs": [
    {
     "data": {
      "image/png": "[encoded data removed]",
      "text/plain": [
       "<Figure size 640x480 with 1 Axes>"
      ]
     },
     "metadata": {},
     "output_type": "display_data"
    }
   ],
   "source": [
    "sns.boxplot(x=dataset['release_year'])\n",
    "plt.title(\"Boxplot of Release Year\")\n",
    "plt.show()\n"
   ]
  },
  {
   "cell_type": "code",
   "execution_count": 82,
   "id": "c2478435-7dc7-4ccd-8e9f-dedff1d16fea",
   "metadata": {},
   "outputs": [
    {
     "data": {
      "text/html": [
       "<div>\n",
       "<style scoped>\n",
       "    .dataframe tbody tr th:only-of-type {\n",
       "        vertical-align: middle;\n",
       "    }\n",
       "\n",
       "    .dataframe tbody tr th {\n",
       "        vertical-align: top;\n",
       "    }\n",
       "\n",
       "    .dataframe thead th {\n",
       "        text-align: right;\n",
       "    }\n",
       "</style>\n",
       "<table border=\"1\" class=\"dataframe\">\n",
       "  <thead>\n",
       "    <tr style=\"text-align: right;\">\n",
       "      <th></th>\n",
       "      <th>show_id</th>\n",
       "      <th>type</th>\n",
       "      <th>title</th>\n",
       "      <th>cast</th>\n",
       "      <th>country</th>\n",
       "      <th>date_added</th>\n",
       "      <th>release_year</th>\n",
       "      <th>rating</th>\n",
       "      <th>duration</th>\n",
       "      <th>listed_in</th>\n",
       "      <th>description</th>\n",
       "    </tr>\n",
       "  </thead>\n",
       "  <tbody>\n",
       "    <tr>\n",
       "      <th>0</th>\n",
       "      <td>s1</td>\n",
       "      <td>Movie</td>\n",
       "      <td>Dick Johnson Is Dead</td>\n",
       "      <td>Not Available</td>\n",
       "      <td>United States</td>\n",
       "      <td>September 25, 2021</td>\n",
       "      <td>2020</td>\n",
       "      <td>PG-13</td>\n",
       "      <td>90 min</td>\n",
       "      <td>Documentaries</td>\n",
       "      <td>As her father nears the end of his life, filmm...</td>\n",
       "    </tr>\n",
       "    <tr>\n",
       "      <th>1</th>\n",
       "      <td>s2</td>\n",
       "      <td>TV Show</td>\n",
       "      <td>Blood &amp; Water</td>\n",
       "      <td>Not Available</td>\n",
       "      <td>South Africa</td>\n",
       "      <td>September 24, 2021</td>\n",
       "      <td>2021</td>\n",
       "      <td>TV-MA</td>\n",
       "      <td>2 Seasons</td>\n",
       "      <td>International TV Shows, TV Dramas, TV Mysteries</td>\n",
       "      <td>After crossing paths at a party, a Cape Town t...</td>\n",
       "    </tr>\n",
       "    <tr>\n",
       "      <th>2</th>\n",
       "      <td>s3</td>\n",
       "      <td>TV Show</td>\n",
       "      <td>Ganglands</td>\n",
       "      <td>Not Available</td>\n",
       "      <td>United States</td>\n",
       "      <td>September 24, 2021</td>\n",
       "      <td>2021</td>\n",
       "      <td>TV-MA</td>\n",
       "      <td>1 Season</td>\n",
       "      <td>Crime TV Shows, International TV Shows, TV Act...</td>\n",
       "      <td>To protect his family from a powerful drug lor...</td>\n",
       "    </tr>\n",
       "    <tr>\n",
       "      <th>3</th>\n",
       "      <td>s4</td>\n",
       "      <td>TV Show</td>\n",
       "      <td>Jailbirds New Orleans</td>\n",
       "      <td>Not Available</td>\n",
       "      <td>United States</td>\n",
       "      <td>September 24, 2021</td>\n",
       "      <td>2021</td>\n",
       "      <td>TV-MA</td>\n",
       "      <td>1 Season</td>\n",
       "      <td>Docuseries, Reality TV</td>\n",
       "      <td>Feuds, flirtations and toilet talk go down amo...</td>\n",
       "    </tr>\n",
       "    <tr>\n",
       "      <th>4</th>\n",
       "      <td>s5</td>\n",
       "      <td>TV Show</td>\n",
       "      <td>Kota Factory</td>\n",
       "      <td>Not Available</td>\n",
       "      <td>India</td>\n",
       "      <td>September 24, 2021</td>\n",
       "      <td>2021</td>\n",
       "      <td>TV-MA</td>\n",
       "      <td>2 Seasons</td>\n",
       "      <td>International TV Shows, Romantic TV Shows, TV ...</td>\n",
       "      <td>In a city of coaching centers known to train I...</td>\n",
       "    </tr>\n",
       "  </tbody>\n",
       "</table>\n",
       "</div>"
      ],
      "text/plain": [
       "  show_id     type                  title           cast        country  \\\n",
       "0      s1    Movie   Dick Johnson Is Dead  Not Available  United States   \n",
       "1      s2  TV Show          Blood & Water  Not Available   South Africa   \n",
       "2      s3  TV Show              Ganglands  Not Available  United States   \n",
       "3      s4  TV Show  Jailbirds New Orleans  Not Available  United States   \n",
       "4      s5  TV Show           Kota Factory  Not Available          India   \n",
       "\n",
       "           date_added  release_year rating   duration  \\\n",
       "0  September 25, 2021          2020  PG-13     90 min   \n",
       "1  September 24, 2021          2021  TV-MA  2 Seasons   \n",
       "2  September 24, 2021          2021  TV-MA   1 Season   \n",
       "3  September 24, 2021          2021  TV-MA   1 Season   \n",
       "4  September 24, 2021          2021  TV-MA  2 Seasons   \n",
       "\n",
       "                                           listed_in  \\\n",
       "0                                      Documentaries   \n",
       "1    International TV Shows, TV Dramas, TV Mysteries   \n",
       "2  Crime TV Shows, International TV Shows, TV Act...   \n",
       "3                             Docuseries, Reality TV   \n",
       "4  International TV Shows, Romantic TV Shows, TV ...   \n",
       "\n",
       "                                         description  \n",
       "0  As her father nears the end of his life, filmm...  \n",
       "1  After crossing paths at a party, a Cape Town t...  \n",
       "2  To protect his family from a powerful drug lor...  \n",
       "3  Feuds, flirtations and toilet talk go down amo...  \n",
       "4  In a city of coaching centers known to train I...  "
      ]
     },
     "execution_count": 82,
     "metadata": {},
     "output_type": "execute_result"
    }
   ],
   "source": [
    "dataset.head(5)"
   ]
  },
  {
   "cell_type": "markdown",
   "id": "039c895f-a133-4f32-8123-4c7eb52516e5",
   "metadata": {},
   "source": [
    "Conclusion: Release Year Outlier Detection"
   ]
  },
  {
   "cell_type": "markdown",
   "id": "9c804af1-eda3-4bde-b6d6-436bd58c8fbd",
   "metadata": {},
   "source": [
    "\n",
    "1. The release_year column was initially stored as an object data type due to formatting issues or invalid entries.\n",
    "\n",
    "2. It was successfully converted to numeric using pd.to_numeric() with errors='coerce', handling any non-numeric values by replacing them with NaN.\n",
    "\n",
    "3. Using the IQR (Interquartile Range) method, statistical outliers were identified — i.e., entries that fell significantly before or after the majority of the data (e.g., years too far in the past or future).\n",
    "\n",
    "4. These outliers were removed from the dataset to ensure that the analysis focuses on relevant, consistent data.\n",
    "\n",
    "5. This step improves the quality and reliability of visualizations and trends, especially when plotting time-based insights."
   ]
  }
 ],
 "metadata": {
  "kernelspec": {
   "display_name": "Python 3 (ipykernel)",
   "language": "python",
   "name": "python3"
  },
  "language_info": {
   "codemirror_mode": {
    "name": "ipython",
    "version": 3
   },
   "file_extension": ".py",
   "mimetype": "text/x-python",
   "name": "python",
   "nbconvert_exporter": "python",
   "pygments_lexer": "ipython3",
   "version": "3.13.1"
  }
 },
 "nbformat": 4,
 "nbformat_minor": 5
}
